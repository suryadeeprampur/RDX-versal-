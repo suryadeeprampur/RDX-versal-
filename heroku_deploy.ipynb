{
  "cells": [
    {
      "cell_type": "code",
      "execution_count": null,
      "metadata": {
        "cellView": "form",
        "id": "SoWUSMrl5FXz"
      },
      "outputs": [],
      "source": [
        "#@title <center><h3>***Heroku Login***</h3></center><br>\n",
        "\n",
        "#@markdown ---\n",
        "\n",
        "Heroku_Email = \"\" #@param {type:\"string\"}\n",
        "Heroku_API = \"\" #@param {type:\"string\"}\n",
        "#@markdown <h6>( <b>Note:</b> <i>Team App Deploy, Use your Personal API Token</i> )</h6>\n",
        "\n",
        "#@markdown ---\n",
        "\n",
        "!curl -s https://cli-assets.heroku.com/install.sh | sh\n",
        "\n",
        "from IPython.display import HTML, clear_output, display\n",
        "clear_output()\n",
        "display(HTML(\"<marquee><b>Heroku CLI Installed !</b></marquee>\"))\n",
        "\n",
        "if not all([Heroku_Email, Heroku_API]):\n",
        "    raise ValueError(\"Please fill in all Mandatory Variables.\")\n",
        "\n",
        "from os import path as ospath, chmod\n",
        "\n",
        "netrc_path = ospath.expanduser(\"~/.netrc\")\n",
        "\n",
        "netrc_creds = f'''machine api.heroku.com\n",
        "  login {Heroku_Email}\n",
        "  password {Heroku_API}\n",
        "machine git.heroku.com\n",
        "  login {Heroku_Email}\n",
        "  password {Heroku_API}'''\n",
        "with open(netrc_path, \"w\") as netrc_file:\n",
        "    netrc_file.write(netrc_creds)\n",
        "\n",
        "chmod(netrc_path, 0o600)\n",
        "\n",
        "!git config --global user.email {Heroku_Email}\n",
        "!git config --global user.name \"WZML-X\"\n",
        "\n",
        "display(HTML(\"<marquee><b>Heroku Email & Password Loaded!</b></marquee>\"))"
      ]
    },
    {
      "cell_type": "code",
      "execution_count": null,
      "metadata": {
        "cellView": "form",
        "id": "O0F5uHkJ2kzV"
      },
      "outputs": [],
      "source": [
        "#@title <center><h3>***Create Heroku App***</h3></center><br>\n",
        "\n",
        "#@markdown ---\n",
        "App_Name = \"\" #@param {type:\"string\"}\n",
        "#@markdown <h6>( <b>Note:</b> <i>App Name is Optional, skip for random name !</i> )</h6>\n",
        "Server_Region = \"\" #@param [\"eu\", \"us\"] {allow-input: true}\n",
        "HK_Team_Name = \"\" #@param {type:\"string\"}\n",
        "#@markdown <h6>( <b>Note:</b> <i>Team App Deploy, Optional option only if you want to deploy to Teams !</i> )</h6>\n",
        "\n",
        "#@markdown ---\n",
        "\n",
        "HK_Team_Name = f\"--team {HK_Team_Name}\" if HK_Team_Name else \"\"\n",
        "!heroku create --region $Server_Region --stack container $HK_Team_Name $App_Name"
      ]
    },
    {
      "cell_type": "code",
      "execution_count": null,
      "metadata": {
        "cellView": "form",
        "id": "NDpKCpuD2xjE"
      },
      "outputs": [],
      "source": [
        "#@title <center><h3>***Repo Setup***</h3></center><br>\n",
        "\n",
        "\n",
        "\n",
        "REPO_PRIVATE_URL = \"\" # @param {type:\"string\"}\n",
        "#@markdown ---\n",
        "#@markdown\n",
        "CONF_GIST_URL = \"\" # @param {type:\"string\"}\n",
        "#@markdown ---\n",
        "\n",
        "if not REPO_PRIVATE_URL and not CONF_GIST_URL:\n",
        "    raise ValueError(\"Please fill in all Mandatory Variables.\")\n",
        "\n",
        "!git clone $REPO_PRIVATE_URL\n",
        "%cd Backend-API\n",
        "!curl -o \"config.env\" $CONF_GIST_URL\n",
        "print(\"config.env File Extracted and Saved Successfully\")\n"
      ]
    },
    {
      "cell_type": "code",
      "execution_count": null,
      "metadata": {
        "cellView": "form",
        "id": "NDbOYtC0ADR5"
      },
      "outputs": [],
      "source": [
        "# @title <center><h3>***Deploy Heroku App***</h3></center><br>\n",
        "\n",
        "#@markdown ---\n",
        "App_Name = \"\" #@param {type:\"string\"}\n",
        "#@markdown ---\n",
        "\n",
        "!git add . -f\n",
        "!git commit -m \"HK Setup\"\n",
        "!heroku git:remote -a {App_Name}\n",
        "!git push heroku main -f"
      ]
    },
    {
      "cell_type": "code",
      "execution_count": null,
      "metadata": {
        "cellView": "form",
        "id": "uLHCOrkZgYbG"
      },
      "outputs": [],
      "source": [
        "# @title <center><h3>***Show Heroku App Logs***</h3></center><br>\n",
        "\n",
        "#@markdown ---\n",
        "App_Name = \"\" #@param {type:\"string\"}\n",
        "#@markdown ---\n",
        "\n",
        "!heroku logs -a {App_Name}"
      ]
    },
    {
      "cell_type": "code",
      "execution_count": null,
      "metadata": {
        "cellView": "form",
        "id": "jHhWiD3QAVTt"
      },
      "outputs": [],
      "source": [
        "#@title <center><h3>***Heroku Logout***</h3></center><br>\n",
        "\n",
        "!heroku logout"
      ]
    }
  ],
  "metadata": {
    "colab": {
      "provenance": []
    },
    "kernelspec": {
      "display_name": "Python 3",
      "name": "python3"
    },
    "language_info": {
      "name": "python"
    }
  },
  "nbformat": 4,
  "nbformat_minor": 0
}